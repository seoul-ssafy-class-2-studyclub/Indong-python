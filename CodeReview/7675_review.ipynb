{
 "cells": [
  {
   "cell_type": "code",
   "execution_count": null,
   "metadata": {},
   "outputs": [],
   "source": [
    "def name(a):\n",
    "    cnt = 0\n",
    "    for i in a:\n",
    "        for j in i:\n",
    "            if j.isdigit():\n",
    "                a.remove(i)\n",
    "                break\n",
    "    for i in a:\n",
    "        if i[0].isupper() and i[1:].islower():\n",
    "            cnt += 1\n",
    "        if len(i) == 1 and i.isupper():\n",
    "            cnt += 1\n",
    "    return cnt\n",
    "\n",
    "T = int(input())\n",
    "for t in range(T):\n",
    "    N = int(input())\n",
    "    n = input().split()\n",
    "    replaces = ['.', '!', '?']\n",
    "    l = []\n",
    "    for i in n[:]:\n",
    "        for replace in replaces:\n",
    "            if replace in i:\n",
    "                n[n.index(i)] = i = i.replace(replace,'')\n",
    "                l.append(n[:n.index(i)+1])\n",
    "                del n[:n.index(i)+1]\n",
    "    print('#{}'.format(t+1), end=' ')\n",
    "    for i in l:\n",
    "        if i != l[-1]:\n",
    "            print(name(i), end=' ')\n",
    "        else:\n",
    "            print(name(i))"
   ]
  },
  {
   "cell_type": "code",
   "execution_count": 5,
   "metadata": {},
   "outputs": [
    {
     "name": "stdout",
     "output_type": "stream",
     "text": [
      "my name is Hye Soo. my id is Rhs0266. what your id Bro?\n",
      "['my', 'name', 'is', 'Hye', 'Soo.', 'my', 'id', 'is', 'Rhs0266.', 'what', 'your', 'id', 'Bro?']\n",
      "[['my', 'name', 'is', 'Hye', 'Soo'], ['my', 'id', 'is', 'Rhs0266'], ['what', 'your', 'id', 'Bro']]\n"
     ]
    }
   ],
   "source": [
    "# 문장을 단어별로 분리한다.\n",
    "n = input().split()\n",
    "print(n)\n",
    "# 세 구두점을 넣은 리스트를 만들어놓는다.\n",
    "replaces = ['.', '!', '?']\n",
    "l = []\n",
    "for i in n[:]:\n",
    "    for replace in replaces:\n",
    "        # 만약 단어에 구두점이 존재한다면\n",
    "        if replace in i:\n",
    "            # 구두점을 공백으로 교체하고,\n",
    "            n[n.index(i)] = i = i.replace(replace,'')\n",
    "            # 구두점이 나온 단어까지 리스트로 묶어서 빈 리스트에 저장한다. \n",
    "            l.append(n[:n.index(i)+1])\n",
    "            # 이미 처리한 단어들의 중복을 막기 위해 이들을 삭제한다. \n",
    "            del n[:n.index(i)+1]\n",
    "\n",
    "print(l)"
   ]
  },
  {
   "cell_type": "code",
   "execution_count": 6,
   "metadata": {},
   "outputs": [
    {
     "name": "stdout",
     "output_type": "stream",
     "text": [
      "2\n",
      "0\n",
      "1\n"
     ]
    }
   ],
   "source": [
    "def name(a):\n",
    "    cnt = 0\n",
    "    for i in a:\n",
    "        for j in i:\n",
    "            # 단어(i)의 특정 글자(j)가 숫자라면 이를 삭제하고 반복문에서 빠져나온다.\n",
    "            if j.isdigit():\n",
    "                a.remove(i)\n",
    "                break\n",
    "    for i in a:\n",
    "        # 만약 첫 글자가 대문자고 나머지 글자가 소문자인 단어이거나 대문자 한 글자라면 cnt에 1을 더해준다.\n",
    "        if i[0].isupper() and i[1:].islower():\n",
    "            cnt += 1\n",
    "        if len(i) == 1 and i.isupper():\n",
    "            cnt += 1\n",
    "    return cnt\n",
    "\n",
    "print(name(['my', 'name', 'is', 'Hye', 'Soo']))\n",
    "print(name(['my', 'id', 'is', 'Rhs0266']))\n",
    "print(name(['what', 'your', 'id', 'Bro']))"
   ]
  }
 ],
 "metadata": {
  "kernelspec": {
   "display_name": "Python 3",
   "language": "python",
   "name": "python3"
  },
  "language_info": {
   "codemirror_mode": {
    "name": "ipython",
    "version": 3
   },
   "file_extension": ".py",
   "mimetype": "text/x-python",
   "name": "python",
   "nbconvert_exporter": "python",
   "pygments_lexer": "ipython3",
   "version": "3.7.3"
  }
 },
 "nbformat": 4,
 "nbformat_minor": 2
}
